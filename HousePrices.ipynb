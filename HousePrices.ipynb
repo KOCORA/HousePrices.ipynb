{
  "nbformat": 4,
  "nbformat_minor": 0,
  "metadata": {
    "coursera": {
      "course_slug": "introduction-tensorflow",
      "graded_item_id": "jRjw8",
      "launcher_item_id": "YoQKl"
    },
    "kernelspec": {
      "display_name": "Python 3",
      "language": "python",
      "name": "python3"
    },
    "language_info": {
      "codemirror_mode": {
        "name": "ipython",
        "version": 3
      },
      "file_extension": ".py",
      "mimetype": "text/x-python",
      "name": "python",
      "nbconvert_exporter": "python",
      "pygments_lexer": "ipython3",
      "version": "3.6.8"
    },
    "colab": {
      "name": "HousePrices.ipynb",
      "provenance": [],
      "include_colab_link": true
    }
  },
  "cells": [
    {
      "cell_type": "markdown",
      "metadata": {
        "id": "view-in-github",
        "colab_type": "text"
      },
      "source": [
        "<a href=\"https://colab.research.google.com/github/KOCORA/HousePrices.ipynb/blob/main/HousePrices.ipynb\" target=\"_parent\"><img src=\"https://colab.research.google.com/assets/colab-badge.svg\" alt=\"Open In Colab\"/></a>"
      ]
    },
    {
      "cell_type": "markdown",
      "metadata": {
        "id": "mw2VBrBcgvGa"
      },
      "source": [
        "###В этом упражнении вы построите нейронную сеть, которая предсказывает цену дома по простой формуле.\n",
        "\n",
        "Представьте себе, что цены на жилье зависят только от количества комнат: дом стоит 500 000 + 500 000 за комнату. то есть дом с 1 спальней стоит 1 000 000, дом с 2 спальнями стоит 1 500 000 и т.д.\n",
        "\n",
        "Как вы создадите нейронную сеть, которая обучается этой зависисмости? проверьте ее, чтобы она предсказывала для дома с 7 спальнями стоимость около 4 млн.\n",
        "\n",
        "**Подсказка**: ваша сеть может работать лучше, если вы *масштабируете* цену так, как это было описано в лекциях. Не нужно давать ответ 4 000 000, лучше создать что-то, что будет предсказывать число 4 и выводить ваш ответ в миллионах."
      ]
    },
    {
      "cell_type": "code",
      "metadata": {
        "id": "moHyJyr4P0OO"
      },
      "source": [
        "import tensorflow as tf\n",
        "import numpy as np\n",
        "from tensorflow import keras"
      ],
      "execution_count": 1,
      "outputs": []
    },
    {
      "cell_type": "code",
      "metadata": {
        "id": "PUNO2E6SeURH"
      },
      "source": [
        "from os import name\n",
        "# GRADED FUNCTION: house_model\n",
        "def house_model(y_new):\n",
        "    xs = np.array([1.0, 2.0, 3.0, 4.0, 5.0, 6.0], dtype=float)\n",
        "    ys = np.array([1.0, 1.5, 2.0, 2.5, 3.0, 3.5], dtype=float)\n",
        "    model = tf.keras.Sequential([keras.layers.Dense(units=1, input_shape=[1])])\n",
        "    model.compile(optimizer='SGD', loss='mean_squared_error')\n",
        "    model.fit(xs, ys, epochs=30)\n",
        "    return model.predict(y_new)[0]"
      ],
      "execution_count": 80,
      "outputs": []
    },
    {
      "cell_type": "code",
      "metadata": {
        "id": "LDe5PlKCP0OQ",
        "colab": {
          "base_uri": "https://localhost:8080/"
        },
        "outputId": "4cdea6fe-3d5b-42af-a0c0-0ac6d8b33dca"
      },
      "source": [
        "prediction = house_model([7.0])\n",
        "print(prediction)"
      ],
      "execution_count": 87,
      "outputs": [
        {
          "output_type": "stream",
          "name": "stdout",
          "text": [
            "Epoch 1/30\n",
            "1/1 [==============================] - 0s 303ms/step - loss: 1.0574\n",
            "Epoch 2/30\n",
            "1/1 [==============================] - 0s 13ms/step - loss: 0.5094\n",
            "Epoch 3/30\n",
            "1/1 [==============================] - 0s 11ms/step - loss: 0.2556\n",
            "Epoch 4/30\n",
            "1/1 [==============================] - 0s 10ms/step - loss: 0.1380\n",
            "Epoch 5/30\n",
            "1/1 [==============================] - 0s 10ms/step - loss: 0.0834\n",
            "Epoch 6/30\n",
            "1/1 [==============================] - 0s 10ms/step - loss: 0.0580\n",
            "Epoch 7/30\n",
            "1/1 [==============================] - 0s 10ms/step - loss: 0.0461\n",
            "Epoch 8/30\n",
            "1/1 [==============================] - 0s 12ms/step - loss: 0.0404\n",
            "Epoch 9/30\n",
            "1/1 [==============================] - 0s 11ms/step - loss: 0.0377\n",
            "Epoch 10/30\n",
            "1/1 [==============================] - 0s 10ms/step - loss: 0.0363\n",
            "Epoch 11/30\n",
            "1/1 [==============================] - 0s 10ms/step - loss: 0.0355\n",
            "Epoch 12/30\n",
            "1/1 [==============================] - 0s 9ms/step - loss: 0.0350\n",
            "Epoch 13/30\n",
            "1/1 [==============================] - 0s 11ms/step - loss: 0.0346\n",
            "Epoch 14/30\n",
            "1/1 [==============================] - 0s 17ms/step - loss: 0.0343\n",
            "Epoch 15/30\n",
            "1/1 [==============================] - 0s 14ms/step - loss: 0.0340\n",
            "Epoch 16/30\n",
            "1/1 [==============================] - 0s 11ms/step - loss: 0.0338\n",
            "Epoch 17/30\n",
            "1/1 [==============================] - 0s 12ms/step - loss: 0.0335\n",
            "Epoch 18/30\n",
            "1/1 [==============================] - 0s 12ms/step - loss: 0.0333\n",
            "Epoch 19/30\n",
            "1/1 [==============================] - 0s 9ms/step - loss: 0.0330\n",
            "Epoch 20/30\n",
            "1/1 [==============================] - 0s 10ms/step - loss: 0.0328\n",
            "Epoch 21/30\n",
            "1/1 [==============================] - 0s 8ms/step - loss: 0.0326\n",
            "Epoch 22/30\n",
            "1/1 [==============================] - 0s 14ms/step - loss: 0.0323\n",
            "Epoch 23/30\n",
            "1/1 [==============================] - 0s 9ms/step - loss: 0.0321\n",
            "Epoch 24/30\n",
            "1/1 [==============================] - 0s 9ms/step - loss: 0.0319\n",
            "Epoch 25/30\n",
            "1/1 [==============================] - 0s 9ms/step - loss: 0.0316\n",
            "Epoch 26/30\n",
            "1/1 [==============================] - 0s 9ms/step - loss: 0.0314\n",
            "Epoch 27/30\n",
            "1/1 [==============================] - 0s 9ms/step - loss: 0.0312\n",
            "Epoch 28/30\n",
            "1/1 [==============================] - 0s 8ms/step - loss: 0.0309\n",
            "Epoch 29/30\n",
            "1/1 [==============================] - 0s 8ms/step - loss: 0.0307\n",
            "Epoch 30/30\n",
            "1/1 [==============================] - 0s 8ms/step - loss: 0.0305\n",
            "1/1 [==============================] - 0s 75ms/step\n",
            "[4.251831]\n"
          ]
        }
      ]
    }
  ]
}