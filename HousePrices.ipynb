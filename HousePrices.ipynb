{
  "nbformat": 4,
  "nbformat_minor": 0,
  "metadata": {
    "coursera": {
      "course_slug": "introduction-tensorflow",
      "graded_item_id": "jRjw8",
      "launcher_item_id": "YoQKl"
    },
    "kernelspec": {
      "display_name": "Python 3",
      "language": "python",
      "name": "python3"
    },
    "language_info": {
      "codemirror_mode": {
        "name": "ipython",
        "version": 3
      },
      "file_extension": ".py",
      "mimetype": "text/x-python",
      "name": "python",
      "nbconvert_exporter": "python",
      "pygments_lexer": "ipython3",
      "version": "3.6.8"
    },
    "colab": {
      "name": "HousePrices.ipynb",
      "provenance": [],
      "include_colab_link": true
    }
  },
  "cells": [
    {
      "cell_type": "markdown",
      "metadata": {
        "id": "view-in-github",
        "colab_type": "text"
      },
      "source": [
        "<a href=\"https://colab.research.google.com/github/KOCORA/HousePrices.ipynb/blob/master/HousePrices.ipynb\" target=\"_parent\"><img src=\"https://colab.research.google.com/assets/colab-badge.svg\" alt=\"Open In Colab\"/></a>"
      ]
    },
    {
      "cell_type": "markdown",
      "metadata": {
        "id": "mw2VBrBcgvGa"
      },
      "source": [
        "###В этом упражнении вы построите нейронную сеть, которая предсказывает цену дома по простой формуле.\n",
        "\n",
        "Представьте себе, что цены на жилье зависят только от количества комнат: дом стоит 500 000 + 500 000 за комнату. то есть дом с 1 спальней стоит 1 000 000, дом с 2 спальнями стоит 1 500 000 и т.д.\n",
        "\n",
        "Как вы создадите нейронную сеть, которая обучается этой зависисмости? проверьте ее, чтобы она предсказывала для дома с 7 спальнями стоимость около 4 млн.\n",
        "\n",
        "**Подсказка**: ваша сеть может работать лучше, если вы *масштабируете* цену так, как это было описано в лекциях. Не нужно давать ответ 4 000 000, лучше создать что-то, что будет предсказывать число 4 и выводить ваш ответ в миллионах."
      ]
    },
    {
      "cell_type": "code",
      "metadata": {
        "id": "moHyJyr4P0OO"
      },
      "source": [
        "import tensorflow as tf\n",
        "import numpy as np\n",
        "from tensorflow import keras"
      ],
      "execution_count": 1,
      "outputs": []
    },
    {
      "cell_type": "code",
      "metadata": {
        "id": "PUNO2E6SeURH"
      },
      "source": [
        "from os import name\n",
        "# GRADED FUNCTION: house_model\n",
        "def house_model(y_new):\n",
        "    xs = np.array([1.0, 2.0, 3.0, 4.0, 5.0, 6.0], dtype=float)\n",
        "    ys = np.array([1.0, 1.5, 2.0, 2.5, 3.0, 3.5], dtype=float)\n",
        "    model = tf.keras.Sequential([keras.layers.Dense(units=1, input_shape=[1])])\n",
        "    model.compile(optimizer='SGD', loss='mean_squared_error')\n",
        "    model.fit(xs, ys, epochs=30)\n",
        "    return model.predict(y_new)[0]"
      ],
      "execution_count": 89,
      "outputs": []
    },
    {
      "cell_type": "code",
      "metadata": {
        "id": "LDe5PlKCP0OQ",
        "colab": {
          "base_uri": "https://localhost:8080/"
        },
        "outputId": "0a9595b1-ae7d-4a64-8cc5-2ce4a59de8a9"
      },
      "source": [
        "prediction = house_model([7.0])\n",
        "print(prediction)"
      ],
      "execution_count": 90,
      "outputs": [
        {
          "output_type": "stream",
          "name": "stdout",
          "text": [
            "Epoch 1/30\n",
            "1/1 [==============================] - 0s 390ms/step - loss: 0.2683\n",
            "Epoch 2/30\n",
            "1/1 [==============================] - 0s 12ms/step - loss: 0.1470\n",
            "Epoch 3/30\n",
            "1/1 [==============================] - 0s 23ms/step - loss: 0.0907\n",
            "Epoch 4/30\n",
            "1/1 [==============================] - 0s 13ms/step - loss: 0.0645\n",
            "Epoch 5/30\n",
            "1/1 [==============================] - 0s 16ms/step - loss: 0.0521\n",
            "Epoch 6/30\n",
            "1/1 [==============================] - 0s 12ms/step - loss: 0.0463\n",
            "Epoch 7/30\n",
            "1/1 [==============================] - 0s 16ms/step - loss: 0.0434\n",
            "Epoch 8/30\n",
            "1/1 [==============================] - 0s 12ms/step - loss: 0.0419\n",
            "Epoch 9/30\n",
            "1/1 [==============================] - 0s 11ms/step - loss: 0.0411\n",
            "Epoch 10/30\n",
            "1/1 [==============================] - 0s 14ms/step - loss: 0.0405\n",
            "Epoch 11/30\n",
            "1/1 [==============================] - 0s 12ms/step - loss: 0.0401\n",
            "Epoch 12/30\n",
            "1/1 [==============================] - 0s 13ms/step - loss: 0.0398\n",
            "Epoch 13/30\n",
            "1/1 [==============================] - 0s 13ms/step - loss: 0.0395\n",
            "Epoch 14/30\n",
            "1/1 [==============================] - 0s 12ms/step - loss: 0.0392\n",
            "Epoch 15/30\n",
            "1/1 [==============================] - 0s 13ms/step - loss: 0.0389\n",
            "Epoch 16/30\n",
            "1/1 [==============================] - 0s 9ms/step - loss: 0.0386\n",
            "Epoch 17/30\n",
            "1/1 [==============================] - 0s 14ms/step - loss: 0.0383\n",
            "Epoch 18/30\n",
            "1/1 [==============================] - 0s 11ms/step - loss: 0.0380\n",
            "Epoch 19/30\n",
            "1/1 [==============================] - 0s 13ms/step - loss: 0.0377\n",
            "Epoch 20/30\n",
            "1/1 [==============================] - 0s 11ms/step - loss: 0.0375\n",
            "Epoch 21/30\n",
            "1/1 [==============================] - 0s 15ms/step - loss: 0.0372\n",
            "Epoch 22/30\n",
            "1/1 [==============================] - 0s 10ms/step - loss: 0.0369\n",
            "Epoch 23/30\n",
            "1/1 [==============================] - 0s 8ms/step - loss: 0.0367\n",
            "Epoch 24/30\n",
            "1/1 [==============================] - 0s 13ms/step - loss: 0.0364\n",
            "Epoch 25/30\n",
            "1/1 [==============================] - 0s 17ms/step - loss: 0.0361\n",
            "Epoch 26/30\n",
            "1/1 [==============================] - 0s 19ms/step - loss: 0.0359\n",
            "Epoch 27/30\n",
            "1/1 [==============================] - 0s 18ms/step - loss: 0.0356\n",
            "Epoch 28/30\n",
            "1/1 [==============================] - 0s 9ms/step - loss: 0.0353\n",
            "Epoch 29/30\n",
            "1/1 [==============================] - 0s 8ms/step - loss: 0.0351\n",
            "Epoch 30/30\n",
            "1/1 [==============================] - 0s 14ms/step - loss: 0.0348\n",
            "1/1 [==============================] - 0s 87ms/step\n",
            "[4.2691674]\n"
          ]
        }
      ]
    }
  ]
}